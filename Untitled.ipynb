{
 "cells": [
  {
   "cell_type": "code",
   "execution_count": 2,
   "id": "93e2e2ef-de36-4c25-899b-1c031373d2f0",
   "metadata": {},
   "outputs": [
    {
     "name": "stdout",
     "output_type": "stream",
     "text": [
      "Requirement already satisfied: requests in ./venv/lib/python3.9/site-packages (2.32.4)\n",
      "Collecting bs4\n",
      "  Downloading bs4-0.0.2-py2.py3-none-any.whl.metadata (411 bytes)\n",
      "Requirement already satisfied: charset_normalizer<4,>=2 in ./venv/lib/python3.9/site-packages (from requests) (3.4.2)\n",
      "Requirement already satisfied: idna<4,>=2.5 in ./venv/lib/python3.9/site-packages (from requests) (3.10)\n",
      "Requirement already satisfied: urllib3<3,>=1.21.1 in ./venv/lib/python3.9/site-packages (from requests) (2.5.0)\n",
      "Requirement already satisfied: certifi>=2017.4.17 in ./venv/lib/python3.9/site-packages (from requests) (2025.7.14)\n",
      "Requirement already satisfied: beautifulsoup4 in ./venv/lib/python3.9/site-packages (from bs4) (4.13.4)\n",
      "Requirement already satisfied: soupsieve>1.2 in ./venv/lib/python3.9/site-packages (from beautifulsoup4->bs4) (2.7)\n",
      "Requirement already satisfied: typing-extensions>=4.0.0 in ./venv/lib/python3.9/site-packages (from beautifulsoup4->bs4) (4.14.1)\n",
      "Downloading bs4-0.0.2-py2.py3-none-any.whl (1.2 kB)\n",
      "Installing collected packages: bs4\n",
      "Successfully installed bs4-0.0.2\n"
     ]
    }
   ],
   "source": [
    "!pip install requests bs4"
   ]
  },
  {
   "cell_type": "code",
   "execution_count": 10,
   "id": "b63a5ce6-52bc-49a9-b704-60ca55b6dffd",
   "metadata": {},
   "outputs": [],
   "source": [
    "import requests\n",
    "from bs4 import BeautifulSoup\n",
    "from datetime import datetime\n",
    "import csv\n",
    "import os\n",
    "import re"
   ]
  },
  {
   "cell_type": "code",
   "execution_count": 19,
   "id": "3d5a31a9-3f52-46c3-9a58-70e660df3f1a",
   "metadata": {},
   "outputs": [
    {
     "name": "stdout",
     "output_type": "stream",
     "text": [
      "⚙️ Debug – found wait-time values: ['1', '0']\n"
     ]
    },
    {
     "data": {
      "text/plain": [
       "{'Terminal 1': 1, 'Terminal 3': 0}"
      ]
     },
     "execution_count": 19,
     "metadata": {},
     "output_type": "execute_result"
    }
   ],
   "source": [
    "URL = \"https://www.adr.it/fiumicino\"\n",
    "\n",
    "def extract_wait_times():\n",
    "    response = requests.get(URL)\n",
    "    response.raise_for_status()\n",
    "    text = BeautifulSoup(response.text, \"html.parser\").get_text()\n",
    "\n",
    "    minutes = re.findall(r\"(\\d+)\\s*min\", text)\n",
    "    print(\"⚙️ Debug – found wait-time values:\", minutes)\n",
    "\n",
    "    if len(minutes) < 2:\n",
    "        raise ValueError(f\"Expected at least two “N min” entries, found: {minutes}\")\n",
    "\n",
    "    return {\n",
    "        \"Terminal 1\": int(minutes[0]),\n",
    "        \"Terminal 3\": int(minutes[1])\n",
    "    }\n",
    "\n",
    "extract_wait_times()"
   ]
  },
  {
   "cell_type": "code",
   "execution_count": 16,
   "id": "8d900db1-43fa-4f0f-8611-1b592a846ad4",
   "metadata": {},
   "outputs": [
    {
     "data": {
      "text/plain": [
       "[]"
      ]
     },
     "execution_count": 16,
     "metadata": {},
     "output_type": "execute_result"
    }
   ],
   "source": [
    "minutes"
   ]
  },
  {
   "cell_type": "code",
   "execution_count": 12,
   "id": "1709601d-c1fa-4506-a99e-40dc2320078f",
   "metadata": {},
   "outputs": [
    {
     "data": {
      "text/plain": [
       "[]"
      ]
     },
     "execution_count": 12,
     "metadata": {},
     "output_type": "execute_result"
    }
   ],
   "source": [
    "matches"
   ]
  },
  {
   "cell_type": "code",
   "execution_count": null,
   "id": "9941a0d1-bc98-408f-9a5c-81d158492b6f",
   "metadata": {},
   "outputs": [],
   "source": [
    "# Find the heading that starts the wait time section\n",
    "section = soup.find(lambda tag: tag.name == \"h2\" and \"Tempi Attesa Gates\" in tag.text)\n",
    "if not section:\n",
    "    raise ValueError(\"Could not find 'Tempi Attesa Gates' heading\")"
   ]
  },
  {
   "cell_type": "code",
   "execution_count": 7,
   "id": "ee363afb-fb8f-49d1-83df-7a7f49f35463",
   "metadata": {},
   "outputs": [
    {
     "data": {
      "text/plain": [
       "<h2 class=\"portlet-title-text\">Tempi Attesa Gates (NEW)</h2>"
      ]
     },
     "execution_count": 7,
     "metadata": {},
     "output_type": "execute_result"
    }
   ],
   "source": [
    "section"
   ]
  },
  {
   "cell_type": "code",
   "execution_count": null,
   "id": "2e7c316c-9bef-4497-aa4c-81f7aec1f64d",
   "metadata": {},
   "outputs": [],
   "source": [
    "# Find the heading that starts the wait time section\n",
    "section = soup.find(lambda tag: tag.name == \"h2\" and \"Tempi Attesa Gates\" in tag.text)\n",
    "if not section:\n",
    "    raise ValueError(\"Could not find 'Tempi Attesa Gates' heading\")\n",
    "\n",
    "# Look through sibling elements to extract wait time lines\n",
    "terminal_lines = section.find_next_siblings(text=lambda t: \"Terminal\" in t and \"min\" in t)\n",
    "if not terminal_lines:\n",
    "    raise ValueError(\"Could not find terminal wait time lines\")\n",
    "\n",
    "wait_times = {}\n",
    "for line in terminal_lines:\n",
    "    parts = line.strip().split(\":\")\n",
    "    if len(parts) == 2:\n",
    "        terminal = parts[0].strip()\n",
    "        minutes = parts[1].strip().split()[0]  # get the numeric value before 'min'\n",
    "        wait_times[terminal] = int(minutes)"
   ]
  }
 ],
 "metadata": {
  "kernelspec": {
   "display_name": "Python 3 (ipykernel)",
   "language": "python",
   "name": "python3"
  },
  "language_info": {
   "codemirror_mode": {
    "name": "ipython",
    "version": 3
   },
   "file_extension": ".py",
   "mimetype": "text/x-python",
   "name": "python",
   "nbconvert_exporter": "python",
   "pygments_lexer": "ipython3",
   "version": "3.9.12"
  }
 },
 "nbformat": 4,
 "nbformat_minor": 5
}
